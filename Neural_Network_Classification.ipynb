{
  "cells": [
    {
      "cell_type": "code",
      "execution_count": 17,
      "metadata": {
        "id": "By9-3GCeEKwp"
      },
      "outputs": [],
      "source": [
        "from google.colab import drive"
      ]
    },
    {
      "cell_type": "code",
      "execution_count": 18,
      "metadata": {
        "colab": {
          "base_uri": "https://localhost:8080/"
        },
        "id": "-m-l3EEZEV2B",
        "outputId": "fb3352f4-eb55-4300-d3c9-546b2b13f49f"
      },
      "outputs": [
        {
          "output_type": "stream",
          "name": "stdout",
          "text": [
            "Drive already mounted at /content/drive; to attempt to forcibly remount, call drive.mount(\"/content/drive\", force_remount=True).\n"
          ]
        }
      ],
      "source": [
        "drive.mount('/content/drive')"
      ]
    },
    {
      "cell_type": "code",
      "execution_count": 19,
      "metadata": {
        "id": "zG_ybYkyEXuu"
      },
      "outputs": [],
      "source": [
        "import numpy as np\n",
        "import pandas as pd\n",
        "import matplotlib.pyplot as plt\n",
        "%matplotlib inline\n",
        "import math\n",
        "from sklearn.metrics import classification_report,confusion_matrix,accuracy_score"
      ]
    },
    {
      "cell_type": "code",
      "execution_count": 20,
      "metadata": {
        "id": "Fawy16QPEbZw",
        "colab": {
          "base_uri": "https://localhost:8080/"
        },
        "outputId": "7f576c71-05bc-48dd-dae6-e548d4626978"
      },
      "outputs": [
        {
          "output_type": "stream",
          "name": "stdout",
          "text": [
            "0        8\n",
            "1        4\n",
            "2        1\n",
            "3        8\n",
            "4        2\n",
            "        ..\n",
            "29995    3\n",
            "29996    4\n",
            "29997    9\n",
            "29998    4\n",
            "29999    6\n",
            "Name: label, Length: 30000, dtype: int64\n",
            "       label  pixel1  pixel2  pixel3  pixel4  pixel5  pixel6  pixel7  pixel8  \\\n",
            "0          8       0       0       0       0       0       0       0       0   \n",
            "1          4       0       0       0       0       0       0       0       0   \n",
            "2          1       0       0       0       0       0       0       0       0   \n",
            "3          8       0       0       0       0       0       0       0       0   \n",
            "4          2       0       0       0       0       1       0       3       0   \n",
            "...      ...     ...     ...     ...     ...     ...     ...     ...     ...   \n",
            "29995      3       0       0       0       0       0       0       0       0   \n",
            "29996      4       0       0       0       0       0       0       0       0   \n",
            "29997      9       0       0       0       0       0       0       0       0   \n",
            "29998      4       0       0       0       0       1       0       0       0   \n",
            "29999      6       0       0       0       1       0       0       0       0   \n",
            "\n",
            "       pixel9  ...  pixel775  pixel776  pixel777  pixel778  pixel779  \\\n",
            "0           0  ...         0         0         0         0         0   \n",
            "1           0  ...        70        27         0         0         0   \n",
            "2         130  ...        35         0         0         0         0   \n",
            "3           0  ...         0         0         0         0         0   \n",
            "4           0  ...         2         0         0        91       117   \n",
            "...       ...  ...       ...       ...       ...       ...       ...   \n",
            "29995      10  ...        13       192       150         0         0   \n",
            "29996       1  ...         2         0        11       179       167   \n",
            "29997       0  ...         0         0         0         0         0   \n",
            "29998       0  ...         1         1         0       106       163   \n",
            "29999       0  ...        77        69        86       102         0   \n",
            "\n",
            "       pixel780  pixel781  pixel782  pixel783  pixel784  \n",
            "0             0         0         0         0         0  \n",
            "1             0         0         0         0         0  \n",
            "2             0         0         0         0         0  \n",
            "3             0         0         0         0         0  \n",
            "4             7         0         0         0         0  \n",
            "...         ...       ...       ...       ...       ...  \n",
            "29995         0         0         0         0         0  \n",
            "29996       105         0         0         0         0  \n",
            "29997         0         0         0         0         0  \n",
            "29998       170        67         0         0         0  \n",
            "29999         0         0         0         0         0  \n",
            "\n",
            "[30000 rows x 785 columns]\n",
            "       pixel1  pixel2  pixel3  pixel4  pixel5  pixel6  pixel7  pixel8  pixel9  \\\n",
            "0           0       0       0       0       0       0       0       0       0   \n",
            "1           0       0       0       0       0       0       0       0       0   \n",
            "2           0       0       0       0       0       0       0       0     130   \n",
            "3           0       0       0       0       0       0       0       0       0   \n",
            "4           0       0       0       0       1       0       3       0       0   \n",
            "...       ...     ...     ...     ...     ...     ...     ...     ...     ...   \n",
            "29995       0       0       0       0       0       0       0       0      10   \n",
            "29996       0       0       0       0       0       0       0       0       1   \n",
            "29997       0       0       0       0       0       0       0       0       0   \n",
            "29998       0       0       0       0       1       0       0       0       0   \n",
            "29999       0       0       0       1       0       0       0       0       0   \n",
            "\n",
            "       pixel10  ...  label_1  label_2  label_3  label_4  label_5  label_6  \\\n",
            "0            0  ...        0        0        0        0        0        0   \n",
            "1            0  ...        0        0        0        1        0        0   \n",
            "2           79  ...        1        0        0        0        0        0   \n",
            "3            0  ...        0        0        0        0        0        0   \n",
            "4            0  ...        0        1        0        0        0        0   \n",
            "...        ...  ...      ...      ...      ...      ...      ...      ...   \n",
            "29995      147  ...        0        0        1        0        0        0   \n",
            "29996        0  ...        0        0        0        1        0        0   \n",
            "29997        0  ...        0        0        0        0        0        0   \n",
            "29998        0  ...        0        0        0        1        0        0   \n",
            "29999       76  ...        0        0        0        0        0        1   \n",
            "\n",
            "       label_7  label_8  label_9  label  \n",
            "0            0        1        0      8  \n",
            "1            0        0        0      4  \n",
            "2            0        0        0      1  \n",
            "3            0        1        0      8  \n",
            "4            0        0        0      2  \n",
            "...        ...      ...      ...    ...  \n",
            "29995        0        0        0      3  \n",
            "29996        0        0        0      4  \n",
            "29997        0        0        1      9  \n",
            "29998        0        0        0      4  \n",
            "29999        0        0        0      6  \n",
            "\n",
            "[30000 rows x 795 columns]\n"
          ]
        }
      ],
      "source": [
        "data_Train=pd.read_csv('/content/drive/MyDrive/classification_train.csv')\n",
        "data_Train = data_Train.drop(columns='Unnamed: 0')\n",
        "Y_Data=data_Train.label\n",
        "print(Y_Data)\n",
        "print(data_Train)\n",
        "data_Train_one_hot_encoded=pd.get_dummies(data_Train, columns=['label'])\n",
        "data_Train_one_hot_encoded['label']=Y_Data\n",
        "print(data_Train_one_hot_encoded)"
      ]
    },
    {
      "cell_type": "code",
      "execution_count": 21,
      "metadata": {
        "colab": {
          "base_uri": "https://localhost:8080/"
        },
        "id": "015E7MUHFpOK",
        "outputId": "777ac95e-3e56-4270-ecdf-0e44c82dd327"
      },
      "outputs": [
        {
          "output_type": "stream",
          "name": "stdout",
          "text": [
            "(30000, 784)\n"
          ]
        }
      ],
      "source": [
        "X_data=data_Train_one_hot_encoded.to_numpy()\n",
        "X=X_data[:,0:784]\n",
        "print(X.shape)"
      ]
    },
    {
      "cell_type": "code",
      "execution_count": 22,
      "metadata": {
        "colab": {
          "base_uri": "https://localhost:8080/"
        },
        "id": "1nXc0_iNG7M0",
        "outputId": "447dfc24-26ba-4ee9-bc19-cfb74b52f44b"
      },
      "outputs": [
        {
          "output_type": "stream",
          "name": "stdout",
          "text": [
            "(30000, 11)\n"
          ]
        }
      ],
      "source": [
        "Y_data= data_Train_one_hot_encoded.to_numpy()\n",
        "Y=Y_data[:,784:796]\n",
        "print(Y.shape)"
      ]
    },
    {
      "cell_type": "code",
      "execution_count": 23,
      "metadata": {
        "id": "YrkwSszlHkx6"
      },
      "outputs": [],
      "source": [
        "def normalize_data(x):\n",
        " x=x/255\n",
        " return x\n",
        "\n",
        " #  mu=np.mean(x,axis=0)\n",
        "#  sigma=np.std(x,axis=0)\n",
        "#  x=(x-mu)/sigma"
      ]
    },
    {
      "cell_type": "code",
      "execution_count": 24,
      "metadata": {
        "colab": {
          "base_uri": "https://localhost:8080/"
        },
        "id": "4I_Ro60cHqzw",
        "outputId": "4cbd3b10-7a7d-453e-c895-0bf5c6f5ba83"
      },
      "outputs": [
        {
          "output_type": "stream",
          "name": "stdout",
          "text": [
            "[[0. 0. 0. ... 0. 0. 0.]\n",
            " [0. 0. 0. ... 0. 0. 0.]\n",
            " [0. 0. 0. ... 0. 0. 0.]\n",
            " ...\n",
            " [0. 0. 0. ... 0. 0. 0.]\n",
            " [0. 0. 0. ... 0. 0. 0.]\n",
            " [0. 0. 0. ... 0. 0. 0.]]\n"
          ]
        }
      ],
      "source": [
        "X=normalize_data(X)\n",
        "print(X)"
      ]
    },
    {
      "cell_type": "code",
      "execution_count": 25,
      "metadata": {
        "id": "YlaEftb9IJur"
      },
      "outputs": [],
      "source": [
        "from sklearn.model_selection import train_test_split\n",
        "X_train,X_test,y_train, y_test = train_test_split(X,Y,random_state=10, test_size=0.2, shuffle=True)\n",
        "y_label_train=y_train[:,10].reshape(-1,1)\n",
        "y_train=y_train[:,0:10]\n",
        "y_label_test=y_test[:,10].reshape(-1,1)\n",
        "y_test=y_test[:,0:10]"
      ]
    },
    {
      "cell_type": "code",
      "execution_count": 37,
      "metadata": {
        "id": "UoTBOe4IISDS"
      },
      "outputs": [],
      "source": [
        "class NeuralNetwork:\n",
        "\n",
        "\n",
        "  def init_params(architecture):\n",
        "    weights=[]\n",
        "    bias=[]\n",
        "    np.random.seed(10)\n",
        "    for i in range(architecture.shape[1]-1):\n",
        "        a=np.random.randn(architecture[0][i],architecture[0][i+1])*math.sqrt(2/(architecture[0][i+1]))     \n",
        "        weights.append(a)\n",
        "    for i in range(architecture.shape[1]-1):\n",
        "        # random.seed(15)\n",
        "        c=np.random.randn(1,architecture[0][i+1])*math.sqrt(2/(architecture[0][i+1]))\n",
        "        bias.append(c)   \n",
        "\n",
        "    return weights,bias   \n",
        "\n",
        "\n",
        "\n",
        "\n",
        "  def ReLU(Z):\n",
        "    return np.maximum(Z, 0)\n",
        "\n",
        "\n",
        "\n",
        "\n",
        "  # def softmax(Z): \n",
        "  #   A = np.exp(Z) / np.sum(np.exp(Z),axis=0)\n",
        "  #   return A\n",
        "\n",
        "\n",
        "\n",
        "\n",
        "\n",
        "  def forward_prop(w,b,X,architecture):\n",
        "    all_activations=[]\n",
        "    z_all=[]\n",
        "    x=X\n",
        "    for i in range(architecture.shape[1]-2):\n",
        "      z=np.dot(x,w[i])+b[i]\n",
        "    #   print(z.shape)\n",
        "      z_all.append(z)\n",
        "      a=NeuralNetwork.ReLU(z)\n",
        "    #   print(a.shape)\n",
        "      x=a\n",
        "    #   print(x.shape)\n",
        "      all_activations.append(a)\n",
        "\n",
        "    ypred=np.dot(x,w[architecture.shape[1]-2])+b[architecture.shape[1]-2]\n",
        "    # print(ypred.shape)\n",
        "    z_all.append(ypred) \n",
        "    activation = np.exp(ypred) / np.sum(np.exp(ypred),axis=0)\n",
        "    # print(activation.shape)\n",
        "    all_activations.append(activation)\n",
        "    y_predicted=np.argmax(activation,axis=1,keepdims = True)\n",
        "    # print(y_predicted.shape)\n",
        "    return y_predicted,all_activations,z_all\n",
        "\n",
        "\n",
        "\n",
        "\n",
        "\n",
        "  def ReLU_deriv(Z):\n",
        "    return Z > 0\n",
        "\n",
        "\n",
        "\n",
        "\n",
        "  def backward_prop(X,Y,architecture,w,b,all_activations,z,Y_labell):\n",
        "    m=X.shape[0]\n",
        "    derivative_w=[]\n",
        "    derivative_b=[]\n",
        "    a=all_activations[-1]-Y\n",
        "    lossarray=np.multiply(all_activations[-1],Y)\n",
        "    lossarray[np.where(lossarray==0)]=1\n",
        "    log=np.log(lossarray)\n",
        "    loss=np.sum(log)*(-1/m)\n",
        "\n",
        "    dz=a\n",
        "    dW = 1 / m * np.dot(all_activations[-2].T,dz)\n",
        "    db = 1 / m * np.sum(dz,axis=0,keepdims = True)\n",
        "    # print(dz.shape)\n",
        "    # print(dW.shape)\n",
        "    # print(db.shape)\n",
        "    derivative_w.append(dW)\n",
        "    derivative_b.append(db)\n",
        "      \n",
        "    for i in range(architecture.shape[1]-3):\n",
        "      dZi = np.dot(dz,w[architecture.shape[1]-2-i].T) * NeuralNetwork.ReLU_deriv(z[architecture.shape[1]-3-i])\n",
        "    #   print(dZi.shape)\n",
        "      dwi= 1 / m * np.dot(all_activations[architecture.shape[1]-4-i].T,dZi)\n",
        "    #   print(dwi.shape)\n",
        "      dbi= 1 / m * np.sum(dZi,axis=0,keepdims = True)\n",
        "    #   print(dbi.shape)\n",
        "      derivative_w.append(dwi)\n",
        "      derivative_b.append(dbi)\n",
        "      dz=dZi\n",
        "    #   print(dZi.shape)\n",
        "    #   print(dwi.shape)\n",
        "    #   print(dbi.shape)\n",
        "       \n",
        "    dz1=np.dot(dz,w[1].T) * NeuralNetwork.ReLU_deriv(z[0])\n",
        "    dW1 = 1 / m * np.dot(X.T,dz1)\n",
        "    db1= 1 / m * np.sum(dz1,axis=0,keepdims = True)\n",
        "    # print(dz1.shape)\n",
        "    # print(dW1.shape)       \n",
        "    # print(db1.shape)\n",
        "    derivative_w.append(dW1)\n",
        "    derivative_b.append(db1)\n",
        "    derivative_w.reverse()\n",
        "    derivative_b.reverse()\n",
        "    return derivative_w,derivative_b,loss\n",
        "\n",
        "  \n",
        "  def update_params(w,b,dw,db,alpha,a):\n",
        "    for i in range(a.shape[1]-1):\n",
        "      w[i] = w[i] +(alpha*dw[i])\n",
        "      b[i] = b[i] -(alpha*db[i])\n",
        "\n",
        "    return w, b\n",
        "\n",
        "  def gradient_descent(X, Y, alpha, iterations,architecture,Y_label):\n",
        "    losses=[]\n",
        "    w,b=NeuralNetwork.init_params(architecture)\n",
        "    for i in range(iterations):\n",
        "      y_hat,act,zall=NeuralNetwork.forward_prop(w,b,X,architecture)\n",
        "      DW,DB,loss=NeuralNetwork.backward_prop(X,Y,architecture,w,b,act,zall,Y_label)\n",
        "      w_updated,b_updated=NeuralNetwork.update_params(w,b,DW,DB,alpha,architecture)\n",
        "      w=w_updated\n",
        "      b=b_updated\n",
        "      print(\"after\",i,\"iterations\")\n",
        "      print(loss)\n",
        "      NeuralNetwork.get_accuracy(y_hat,Y_label)\n",
        "      losses.append(loss)\n",
        "\n",
        "         \n",
        "    return w,b,losses \n",
        "   \n",
        "  def get_accuracy(y__predicted,y):\n",
        "    print(np.sum(y__predicted == y) / y.size)\n",
        "\n",
        "\n",
        "  def accPlot(acc, iters):\n",
        "      plt.plot(np.arange(iters), acc, '-b') \n",
        "      plt.xlabel('Number of iterations')\n",
        "      plt.ylabel('loss')\n",
        "      plt.show()  \n",
        "\n",
        "\n",
        " \n",
        "\n"
      ]
    },
    {
      "cell_type": "code",
      "execution_count": 39,
      "metadata": {
        "colab": {
          "base_uri": "https://localhost:8080/",
          "height": 883
        },
        "id": "tg9rjc-nksPO",
        "outputId": "629b1286-77ce-48e1-8739-b9ecb7e2371f"
      },
      "outputs": [
        {
          "output_type": "stream",
          "name": "stdout",
          "text": [
            "after 0 iterations\n",
            "11.248733096523264\n",
            "0.08208333333333333\n",
            "after 1 iterations\n",
            "11.313632705327446\n",
            "0.08058333333333334\n",
            "after 2 iterations\n",
            "11.386189228864987\n",
            "0.079\n",
            "after 3 iterations\n",
            "11.467747169010183\n",
            "0.07854166666666666\n",
            "after 4 iterations\n",
            "11.558686707690072\n",
            "0.079\n",
            "after 5 iterations\n",
            "11.658593830868616\n",
            "0.07983333333333334\n",
            "after 6 iterations\n",
            "11.769635241272898\n",
            "0.07954166666666666\n",
            "after 7 iterations\n",
            "11.889733475833374\n",
            "0.079125\n",
            "after 8 iterations\n",
            "12.018128485999588\n",
            "0.077875\n",
            "after 9 iterations\n",
            "12.15383109743252\n",
            "0.076875\n",
            "after 10 iterations\n",
            "12.298940871583756\n",
            "0.07608333333333334\n",
            "after 11 iterations\n",
            "12.450842690811527\n",
            "0.073\n"
          ]
        },
        {
          "output_type": "error",
          "ename": "KeyboardInterrupt",
          "evalue": "ignored",
          "traceback": [
            "\u001b[0;31m---------------------------------------------------------------------------\u001b[0m",
            "\u001b[0;31mKeyboardInterrupt\u001b[0m                         Traceback (most recent call last)",
            "\u001b[0;32m<ipython-input-39-4a394a69e143>\u001b[0m in \u001b[0;36m<cell line: 42>\u001b[0;34m()\u001b[0m\n\u001b[1;32m     40\u001b[0m \u001b[0;31m# print(w_updated[1].shape,b_updated[1].shape)\u001b[0m\u001b[0;34m\u001b[0m\u001b[0;34m\u001b[0m\u001b[0m\n\u001b[1;32m     41\u001b[0m \u001b[0;31m# print(w_updated[2].shape,b_updated[2].shape)\u001b[0m\u001b[0;34m\u001b[0m\u001b[0;34m\u001b[0m\u001b[0m\n\u001b[0;32m---> 42\u001b[0;31m \u001b[0mw_final\u001b[0m\u001b[0;34m,\u001b[0m\u001b[0mb_final\u001b[0m\u001b[0;34m,\u001b[0m\u001b[0mloss_arr\u001b[0m\u001b[0;34m=\u001b[0m\u001b[0mNeuralNetwork\u001b[0m\u001b[0;34m.\u001b[0m\u001b[0mgradient_descent\u001b[0m\u001b[0;34m(\u001b[0m\u001b[0mX_train\u001b[0m\u001b[0;34m,\u001b[0m\u001b[0my_train\u001b[0m\u001b[0;34m,\u001b[0m\u001b[0malpha\u001b[0m\u001b[0;34m,\u001b[0m\u001b[0miterations\u001b[0m\u001b[0;34m,\u001b[0m\u001b[0ma\u001b[0m\u001b[0;34m,\u001b[0m\u001b[0my_label_train\u001b[0m\u001b[0;34m)\u001b[0m\u001b[0;34m\u001b[0m\u001b[0;34m\u001b[0m\u001b[0m\n\u001b[0m",
            "\u001b[0;32m<ipython-input-37-a5b84842ce2d>\u001b[0m in \u001b[0;36mgradient_descent\u001b[0;34m(X, Y, alpha, iterations, architecture, Y_label)\u001b[0m\n\u001b[1;32m    124\u001b[0m     \u001b[0mw\u001b[0m\u001b[0;34m,\u001b[0m\u001b[0mb\u001b[0m\u001b[0;34m=\u001b[0m\u001b[0mNeuralNetwork\u001b[0m\u001b[0;34m.\u001b[0m\u001b[0minit_params\u001b[0m\u001b[0;34m(\u001b[0m\u001b[0marchitecture\u001b[0m\u001b[0;34m)\u001b[0m\u001b[0;34m\u001b[0m\u001b[0;34m\u001b[0m\u001b[0m\n\u001b[1;32m    125\u001b[0m     \u001b[0;32mfor\u001b[0m \u001b[0mi\u001b[0m \u001b[0;32min\u001b[0m \u001b[0mrange\u001b[0m\u001b[0;34m(\u001b[0m\u001b[0miterations\u001b[0m\u001b[0;34m)\u001b[0m\u001b[0;34m:\u001b[0m\u001b[0;34m\u001b[0m\u001b[0;34m\u001b[0m\u001b[0m\n\u001b[0;32m--> 126\u001b[0;31m       \u001b[0my_hat\u001b[0m\u001b[0;34m,\u001b[0m\u001b[0mact\u001b[0m\u001b[0;34m,\u001b[0m\u001b[0mzall\u001b[0m\u001b[0;34m=\u001b[0m\u001b[0mNeuralNetwork\u001b[0m\u001b[0;34m.\u001b[0m\u001b[0mforward_prop\u001b[0m\u001b[0;34m(\u001b[0m\u001b[0mw\u001b[0m\u001b[0;34m,\u001b[0m\u001b[0mb\u001b[0m\u001b[0;34m,\u001b[0m\u001b[0mX\u001b[0m\u001b[0;34m,\u001b[0m\u001b[0marchitecture\u001b[0m\u001b[0;34m)\u001b[0m\u001b[0;34m\u001b[0m\u001b[0;34m\u001b[0m\u001b[0m\n\u001b[0m\u001b[1;32m    127\u001b[0m       \u001b[0mDW\u001b[0m\u001b[0;34m,\u001b[0m\u001b[0mDB\u001b[0m\u001b[0;34m,\u001b[0m\u001b[0mloss\u001b[0m\u001b[0;34m=\u001b[0m\u001b[0mNeuralNetwork\u001b[0m\u001b[0;34m.\u001b[0m\u001b[0mbackward_prop\u001b[0m\u001b[0;34m(\u001b[0m\u001b[0mX\u001b[0m\u001b[0;34m,\u001b[0m\u001b[0mY\u001b[0m\u001b[0;34m,\u001b[0m\u001b[0marchitecture\u001b[0m\u001b[0;34m,\u001b[0m\u001b[0mw\u001b[0m\u001b[0;34m,\u001b[0m\u001b[0mb\u001b[0m\u001b[0;34m,\u001b[0m\u001b[0mact\u001b[0m\u001b[0;34m,\u001b[0m\u001b[0mzall\u001b[0m\u001b[0;34m,\u001b[0m\u001b[0mY_label\u001b[0m\u001b[0;34m)\u001b[0m\u001b[0;34m\u001b[0m\u001b[0;34m\u001b[0m\u001b[0m\n\u001b[1;32m    128\u001b[0m       \u001b[0mw_updated\u001b[0m\u001b[0;34m,\u001b[0m\u001b[0mb_updated\u001b[0m\u001b[0;34m=\u001b[0m\u001b[0mNeuralNetwork\u001b[0m\u001b[0;34m.\u001b[0m\u001b[0mupdate_params\u001b[0m\u001b[0;34m(\u001b[0m\u001b[0mw\u001b[0m\u001b[0;34m,\u001b[0m\u001b[0mb\u001b[0m\u001b[0;34m,\u001b[0m\u001b[0mDW\u001b[0m\u001b[0;34m,\u001b[0m\u001b[0mDB\u001b[0m\u001b[0;34m,\u001b[0m\u001b[0malpha\u001b[0m\u001b[0;34m,\u001b[0m\u001b[0marchitecture\u001b[0m\u001b[0;34m)\u001b[0m\u001b[0;34m\u001b[0m\u001b[0;34m\u001b[0m\u001b[0m\n",
            "\u001b[0;32m<ipython-input-37-a5b84842ce2d>\u001b[0m in \u001b[0;36mforward_prop\u001b[0;34m(w, b, X, architecture)\u001b[0m\n\u001b[1;32m     38\u001b[0m     \u001b[0mx\u001b[0m\u001b[0;34m=\u001b[0m\u001b[0mX\u001b[0m\u001b[0;34m\u001b[0m\u001b[0;34m\u001b[0m\u001b[0m\n\u001b[1;32m     39\u001b[0m     \u001b[0;32mfor\u001b[0m \u001b[0mi\u001b[0m \u001b[0;32min\u001b[0m \u001b[0mrange\u001b[0m\u001b[0;34m(\u001b[0m\u001b[0marchitecture\u001b[0m\u001b[0;34m.\u001b[0m\u001b[0mshape\u001b[0m\u001b[0;34m[\u001b[0m\u001b[0;36m1\u001b[0m\u001b[0;34m]\u001b[0m\u001b[0;34m-\u001b[0m\u001b[0;36m2\u001b[0m\u001b[0;34m)\u001b[0m\u001b[0;34m:\u001b[0m\u001b[0;34m\u001b[0m\u001b[0;34m\u001b[0m\u001b[0m\n\u001b[0;32m---> 40\u001b[0;31m       \u001b[0mz\u001b[0m\u001b[0;34m=\u001b[0m\u001b[0mnp\u001b[0m\u001b[0;34m.\u001b[0m\u001b[0mdot\u001b[0m\u001b[0;34m(\u001b[0m\u001b[0mx\u001b[0m\u001b[0;34m,\u001b[0m\u001b[0mw\u001b[0m\u001b[0;34m[\u001b[0m\u001b[0mi\u001b[0m\u001b[0;34m]\u001b[0m\u001b[0;34m)\u001b[0m\u001b[0;34m+\u001b[0m\u001b[0mb\u001b[0m\u001b[0;34m[\u001b[0m\u001b[0mi\u001b[0m\u001b[0;34m]\u001b[0m\u001b[0;34m\u001b[0m\u001b[0;34m\u001b[0m\u001b[0m\n\u001b[0m\u001b[1;32m     41\u001b[0m     \u001b[0;31m#   print(z.shape)\u001b[0m\u001b[0;34m\u001b[0m\u001b[0;34m\u001b[0m\u001b[0m\n\u001b[1;32m     42\u001b[0m       \u001b[0mz_all\u001b[0m\u001b[0;34m.\u001b[0m\u001b[0mappend\u001b[0m\u001b[0;34m(\u001b[0m\u001b[0mz\u001b[0m\u001b[0;34m)\u001b[0m\u001b[0;34m\u001b[0m\u001b[0;34m\u001b[0m\u001b[0m\n",
            "\u001b[0;32m/usr/local/lib/python3.9/dist-packages/numpy/core/overrides.py\u001b[0m in \u001b[0;36mdot\u001b[0;34m(*args, **kwargs)\u001b[0m\n",
            "\u001b[0;31mKeyboardInterrupt\u001b[0m: "
          ]
        }
      ],
      "source": [
        "a=np.array([[784,200,100,17,16,15,14,13,10]])\n",
        "w,b=NeuralNetwork.init_params(a)\n",
        "alpha=0.001\n",
        "iterations=100\n",
        "# print(w[0].shape)\n",
        "# print(w[1].shape)\n",
        "# print(w[2].shape)\n",
        "# print(w[3].shape)\n",
        "# print(w[4].shape)\n",
        "# print(w[5].shape)\n",
        "\n",
        "# print(b[0].shape)\n",
        "# print(b[1].shape)\n",
        "# print(b[2].shape)\n",
        "# print(b[3].shape)\n",
        "# print(b[4].shape)\n",
        "# print(b[5].shape)\n",
        "\n",
        "# print()\n",
        "# print()\n",
        "# print()\n",
        "# yhat,act,zall=NeuralNetwork.forward_prop(w,b,X_train,a)\n",
        "# # # print(yhat.shape)\n",
        "# # print(act[-1].shape)\n",
        "# print()\n",
        "# print()\n",
        "# print()\n",
        "# DW,DB,loss=NeuralNetwork.backward_prop(X_train,y_train,a,w,b,act,zall,y_label_train)\n",
        "# print(DW[0].shape)\n",
        "# print(DW[1].shape)\n",
        "# print(DW[2].shape)\n",
        "# print(DW[3].shape)\n",
        "# print(DW[4].shape)\n",
        "\n",
        "# print(DB[0].shape)\n",
        "# print(DB[1].shape)\n",
        "# print(DB[2].shape)\n",
        "# w_updated,b_updated=NeuralNetwork.update_params(w,b,DW,DB,alpha,a)\n",
        "# print(w_updated[0].shape,b_updated[0].shape)\n",
        "# print(w_updated[1].shape,b_updated[1].shape)\n",
        "# print(w_updated[2].shape,b_updated[2].shape)\n",
        "w_final,b_final,loss_arr=NeuralNetwork.gradient_descent(X_train,y_train,alpha,iterations,a,y_label_train)"
      ]
    },
    {
      "cell_type": "code",
      "execution_count": null,
      "metadata": {
        "id": "JHB87qOZf6YL"
      },
      "outputs": [],
      "source": [
        "NeuralNetwork.accPlot(loss_arr,1000)\n",
        "# print(loss_arr)"
      ]
    }
  ],
  "metadata": {
    "colab": {
      "provenance": []
    },
    "kernelspec": {
      "display_name": "Python 3",
      "name": "python3"
    },
    "language_info": {
      "name": "python"
    }
  },
  "nbformat": 4,
  "nbformat_minor": 0
}