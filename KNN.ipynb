{
  "nbformat": 4,
  "nbformat_minor": 0,
  "metadata": {
    "colab": {
      "provenance": []
    },
    "kernelspec": {
      "name": "python3",
      "display_name": "Python 3"
    },
    "language_info": {
      "name": "python"
    }
  },
  "cells": [
    {
      "cell_type": "code",
      "execution_count": null,
      "metadata": {
        "id": "jUilFdOBaTTM"
      },
      "outputs": [],
      "source": [
        "from google.colab import drive"
      ]
    },
    {
      "cell_type": "code",
      "source": [
        "drive.mount('/content/drive')"
      ],
      "metadata": {
        "colab": {
          "base_uri": "https://localhost:8080/"
        },
        "id": "Tei7b-QlaWYn",
        "outputId": "282fa9af-5abd-44cd-c1c3-17a52e942ef7"
      },
      "execution_count": null,
      "outputs": [
        {
          "output_type": "stream",
          "name": "stdout",
          "text": [
            "Drive already mounted at /content/drive; to attempt to forcibly remount, call drive.mount(\"/content/drive\", force_remount=True).\n"
          ]
        }
      ]
    },
    {
      "cell_type": "code",
      "source": [
        "import numpy as np\n",
        "import pandas as pd\n",
        "import matplotlib.pyplot as plt\n",
        "%matplotlib inline\n",
        "import math\n",
        "from sklearn.metrics import classification_report,confusion_matrix,r2_score"
      ],
      "metadata": {
        "id": "TbUgq7LgaXN4"
      },
      "execution_count": null,
      "outputs": []
    },
    {
      "cell_type": "code",
      "source": [
        "data_Train=pd.read_csv('/content/drive/MyDrive/classification_train.csv')\n",
        "data_Train = data_Train.drop(columns='Unnamed: 0') \n",
        "print(data_Train)"
      ],
      "metadata": {
        "colab": {
          "base_uri": "https://localhost:8080/"
        },
        "id": "mwFj45fQac9q",
        "outputId": "49820c67-4c12-4d60-d4e5-2defd660d357"
      },
      "execution_count": null,
      "outputs": [
        {
          "output_type": "stream",
          "name": "stdout",
          "text": [
            "       label  pixel1  pixel2  pixel3  pixel4  pixel5  pixel6  pixel7  pixel8  \\\n",
            "0          8       0       0       0       0       0       0       0       0   \n",
            "1          4       0       0       0       0       0       0       0       0   \n",
            "2          1       0       0       0       0       0       0       0       0   \n",
            "3          8       0       0       0       0       0       0       0       0   \n",
            "4          2       0       0       0       0       1       0       3       0   \n",
            "...      ...     ...     ...     ...     ...     ...     ...     ...     ...   \n",
            "29995      3       0       0       0       0       0       0       0       0   \n",
            "29996      4       0       0       0       0       0       0       0       0   \n",
            "29997      9       0       0       0       0       0       0       0       0   \n",
            "29998      4       0       0       0       0       1       0       0       0   \n",
            "29999      6       0       0       0       1       0       0       0       0   \n",
            "\n",
            "       pixel9  ...  pixel775  pixel776  pixel777  pixel778  pixel779  \\\n",
            "0           0  ...         0         0         0         0         0   \n",
            "1           0  ...        70        27         0         0         0   \n",
            "2         130  ...        35         0         0         0         0   \n",
            "3           0  ...         0         0         0         0         0   \n",
            "4           0  ...         2         0         0        91       117   \n",
            "...       ...  ...       ...       ...       ...       ...       ...   \n",
            "29995      10  ...        13       192       150         0         0   \n",
            "29996       1  ...         2         0        11       179       167   \n",
            "29997       0  ...         0         0         0         0         0   \n",
            "29998       0  ...         1         1         0       106       163   \n",
            "29999       0  ...        77        69        86       102         0   \n",
            "\n",
            "       pixel780  pixel781  pixel782  pixel783  pixel784  \n",
            "0             0         0         0         0         0  \n",
            "1             0         0         0         0         0  \n",
            "2             0         0         0         0         0  \n",
            "3             0         0         0         0         0  \n",
            "4             7         0         0         0         0  \n",
            "...         ...       ...       ...       ...       ...  \n",
            "29995         0         0         0         0         0  \n",
            "29996       105         0         0         0         0  \n",
            "29997         0         0         0         0         0  \n",
            "29998       170        67         0         0         0  \n",
            "29999         0         0         0         0         0  \n",
            "\n",
            "[30000 rows x 785 columns]\n"
          ]
        }
      ]
    },
    {
      "cell_type": "code",
      "source": [
        "X = data_Train.drop(columns='label', axis=1)\n",
        "print(X)"
      ],
      "metadata": {
        "colab": {
          "base_uri": "https://localhost:8080/"
        },
        "id": "_63OyQNgXcqL",
        "outputId": "11de1413-c60b-4b0f-d1ab-6256bbca70fd"
      },
      "execution_count": null,
      "outputs": [
        {
          "output_type": "stream",
          "name": "stdout",
          "text": [
            "       pixel1  pixel2  pixel3  pixel4  pixel5  pixel6  pixel7  pixel8  pixel9  \\\n",
            "0           0       0       0       0       0       0       0       0       0   \n",
            "1           0       0       0       0       0       0       0       0       0   \n",
            "2           0       0       0       0       0       0       0       0     130   \n",
            "3           0       0       0       0       0       0       0       0       0   \n",
            "4           0       0       0       0       1       0       3       0       0   \n",
            "...       ...     ...     ...     ...     ...     ...     ...     ...     ...   \n",
            "29995       0       0       0       0       0       0       0       0      10   \n",
            "29996       0       0       0       0       0       0       0       0       1   \n",
            "29997       0       0       0       0       0       0       0       0       0   \n",
            "29998       0       0       0       0       1       0       0       0       0   \n",
            "29999       0       0       0       1       0       0       0       0       0   \n",
            "\n",
            "       pixel10  ...  pixel775  pixel776  pixel777  pixel778  pixel779  \\\n",
            "0            0  ...         0         0         0         0         0   \n",
            "1            0  ...        70        27         0         0         0   \n",
            "2           79  ...        35         0         0         0         0   \n",
            "3            0  ...         0         0         0         0         0   \n",
            "4            0  ...         2         0         0        91       117   \n",
            "...        ...  ...       ...       ...       ...       ...       ...   \n",
            "29995      147  ...        13       192       150         0         0   \n",
            "29996        0  ...         2         0        11       179       167   \n",
            "29997        0  ...         0         0         0         0         0   \n",
            "29998        0  ...         1         1         0       106       163   \n",
            "29999       76  ...        77        69        86       102         0   \n",
            "\n",
            "       pixel780  pixel781  pixel782  pixel783  pixel784  \n",
            "0             0         0         0         0         0  \n",
            "1             0         0         0         0         0  \n",
            "2             0         0         0         0         0  \n",
            "3             0         0         0         0         0  \n",
            "4             7         0         0         0         0  \n",
            "...         ...       ...       ...       ...       ...  \n",
            "29995         0         0         0         0         0  \n",
            "29996       105         0         0         0         0  \n",
            "29997         0         0         0         0         0  \n",
            "29998       170        67         0         0         0  \n",
            "29999         0         0         0         0         0  \n",
            "\n",
            "[30000 rows x 784 columns]\n"
          ]
        }
      ]
    },
    {
      "cell_type": "code",
      "source": [
        "Y= data_Train[\"label\"]\n",
        "print(Y)"
      ],
      "metadata": {
        "colab": {
          "base_uri": "https://localhost:8080/"
        },
        "id": "ZMUiUIgOYhe2",
        "outputId": "a42a476a-f12d-45b8-8af8-5376a04d0a71"
      },
      "execution_count": null,
      "outputs": [
        {
          "output_type": "stream",
          "name": "stdout",
          "text": [
            "0        8\n",
            "1        4\n",
            "2        1\n",
            "3        8\n",
            "4        2\n",
            "        ..\n",
            "29995    3\n",
            "29996    4\n",
            "29997    9\n",
            "29998    4\n",
            "29999    6\n",
            "Name: label, Length: 30000, dtype: int64\n"
          ]
        }
      ]
    },
    {
      "cell_type": "code",
      "source": [
        "from sklearn.model_selection import train_test_split\n",
        "X_train, X_test,y_train, y_test = train_test_split(X,Y,random_state=10, test_size=0.2, shuffle=True)"
      ],
      "metadata": {
        "id": "MnvN2ZUuZHFH"
      },
      "execution_count": null,
      "outputs": []
    },
    {
      "cell_type": "code",
      "source": [
        "print(X_train)\n",
        "print(X_test)\n",
        "print(y_train)\n",
        "print(y_test)"
      ],
      "metadata": {
        "colab": {
          "base_uri": "https://localhost:8080/"
        },
        "id": "GUIED1iXa0hK",
        "outputId": "06448d1e-2fbe-4255-a1d0-c39e4fcdea0b"
      },
      "execution_count": null,
      "outputs": [
        {
          "output_type": "stream",
          "name": "stdout",
          "text": [
            "       pixel1  pixel2  pixel3  pixel4  pixel5  pixel6  pixel7  pixel8  pixel9  \\\n",
            "4762        0       0       0       0       0       0       0       0       0   \n",
            "26106       0       0       0       0       0       2       0      32      82   \n",
            "16205       0       0       0       0       0       0       0       0       1   \n",
            "26722       0       0       0       0       0       0       0       0       0   \n",
            "12398       0       0       0       0       0       0       0       0       0   \n",
            "...       ...     ...     ...     ...     ...     ...     ...     ...     ...   \n",
            "28017       0       0       0       0       0       0       0       0       0   \n",
            "17728       0       0       0       0       0       0       0       0       0   \n",
            "29199       0       0       0       0       0       0       0       0       0   \n",
            "7293        0       0       0       0       0       0       0       1       0   \n",
            "17673       0       0       0       0       0       0       0       0       2   \n",
            "\n",
            "       pixel10  ...  pixel775  pixel776  pixel777  pixel778  pixel779  \\\n",
            "4762         0  ...         0         0         0         0         0   \n",
            "26106        0  ...        92        86        80        33         0   \n",
            "16205        0  ...         0         3         0       117       202   \n",
            "26722       24  ...         0         0         0         0         0   \n",
            "12398        0  ...         0         0         0         0         0   \n",
            "...        ...  ...       ...       ...       ...       ...       ...   \n",
            "28017        0  ...         0         0         0         0         0   \n",
            "17728        0  ...         0         0         0         0         0   \n",
            "29199        0  ...         0         0         0         0         0   \n",
            "7293         0  ...         0         1         0         0       143   \n",
            "17673        3  ...        67        12         0         0         1   \n",
            "\n",
            "       pixel780  pixel781  pixel782  pixel783  pixel784  \n",
            "4762          0         0         0         0         0  \n",
            "26106         0         0         0         0         0  \n",
            "16205        94         0         0         0         0  \n",
            "26722         0         0         0         0         0  \n",
            "12398         0         0         0         0         0  \n",
            "...         ...       ...       ...       ...       ...  \n",
            "28017         0         0         0         0         0  \n",
            "17728         0         0         0         0         0  \n",
            "29199         0         0         0         0         0  \n",
            "7293        136        77         0         0         0  \n",
            "17673         1         1         0         0         0  \n",
            "\n",
            "[24000 rows x 784 columns]\n",
            "       pixel1  pixel2  pixel3  pixel4  pixel5  pixel6  pixel7  pixel8  pixel9  \\\n",
            "20412       0       0       0       0       0       0       0       0       0   \n",
            "1296        0       0       0       0       0       0       0       0       0   \n",
            "3906        0       0       0       0       0       0       0       0      15   \n",
            "20454       0       0       0       0       1       0       0       0       0   \n",
            "5200        0       0       0       0       0       0       0       1       0   \n",
            "...       ...     ...     ...     ...     ...     ...     ...     ...     ...   \n",
            "28631       0       0       0       0       0       0       0       0       0   \n",
            "721         0       0       0       0       0       0       0       0       0   \n",
            "19990       0       0       0       0       0       0       0       0       0   \n",
            "14710       0       0       0       0       0       0       0       0       0   \n",
            "10011       0       0       0       0       0       0       0       0       0   \n",
            "\n",
            "       pixel10  ...  pixel775  pixel776  pixel777  pixel778  pixel779  \\\n",
            "20412        0  ...         0         0         0         0         0   \n",
            "1296         0  ...         0         0         0         0         0   \n",
            "3906        83  ...       128       144       142        26         0   \n",
            "20454       25  ...       106       119         5         0         2   \n",
            "5200         0  ...        51         0         0         1         0   \n",
            "...        ...  ...       ...       ...       ...       ...       ...   \n",
            "28631        0  ...         0         0         0         0         0   \n",
            "721          0  ...         0         0         0         0         0   \n",
            "19990        0  ...         0         0         0         0         0   \n",
            "14710        0  ...       181         0         0         0         0   \n",
            "10011        0  ...         0         0         0         0         0   \n",
            "\n",
            "       pixel780  pixel781  pixel782  pixel783  pixel784  \n",
            "20412         0         0         0         0         0  \n",
            "1296          0         0         0         0         0  \n",
            "3906          3         0         0         0         0  \n",
            "20454         0         0         0         0         0  \n",
            "5200          0         0         0         0         0  \n",
            "...         ...       ...       ...       ...       ...  \n",
            "28631         0         0         0         0         0  \n",
            "721           0         0         0         0         0  \n",
            "19990         0         0         0         0         0  \n",
            "14710         0         0         0         0         0  \n",
            "10011         0         0         0         0         0  \n",
            "\n",
            "[6000 rows x 784 columns]\n",
            "4762     7\n",
            "26106    6\n",
            "16205    2\n",
            "26722    4\n",
            "12398    8\n",
            "        ..\n",
            "28017    9\n",
            "17728    5\n",
            "29199    7\n",
            "7293     2\n",
            "17673    6\n",
            "Name: label, Length: 24000, dtype: int64\n",
            "20412    7\n",
            "1296     1\n",
            "3906     0\n",
            "20454    4\n",
            "5200     3\n",
            "        ..\n",
            "28631    7\n",
            "721      8\n",
            "19990    7\n",
            "14710    1\n",
            "10011    5\n",
            "Name: label, Length: 6000, dtype: int64\n"
          ]
        }
      ]
    },
    {
      "cell_type": "code",
      "source": [
        "X_train=X_train.to_numpy()\n",
        "X_test=X_test.to_numpy()\n",
        "y_train=y_train.to_numpy()\n",
        "y_test=y_test.to_numpy()"
      ],
      "metadata": {
        "id": "Kg9lur3NMhwQ"
      },
      "execution_count": null,
      "outputs": []
    },
    {
      "cell_type": "code",
      "source": [
        "class KNearestNieghbour:\n",
        "   def __init__(self, no_of_neighbours, epsilon):\n",
        "        self.k = no_of_neighbours\n",
        "        self.epsilon = epsilon\n",
        "        \n",
        "\n",
        "   def train(self, x, y):\n",
        "        self.X_Train = x\n",
        "        self.Y_Train = y\n",
        "         \n",
        "\n",
        "   def predict_value(self, X_Test):\n",
        "        distances = self.distance_matrix(X_Test)\n",
        "        predicted_values=self.predict_label(distances)\n",
        "        return predicted_values\n",
        "\n",
        "     \n",
        "   def distance_matrix(self, X_Test):\n",
        "        X_Test_square = np.sum(X_Test ** 2, axis=1, keepdims=True)\n",
        "        X_Train_square = np.sum(self.X_Train ** 2, axis=1, keepdims=True)\n",
        "        X_Test_multiply_X_Train = np.dot(X_test, self.X_Train.T)\n",
        "        return np.sqrt(self.epsilon + X_Test_square + X_Train_square.T- 2 * X_Test_multiply_X_Train)\n",
        "\n",
        "   def predict_label(self, distances):\n",
        "        number_test_cases = distances.shape[0]\n",
        "        Y_predicted = np.zeros(number_test_cases)\n",
        "\n",
        "        for i in range(number_test_cases):\n",
        "            y_index = np.argsort(distances[i, :])\n",
        "            K_Nearest_labels = self.Y_Train[y_index[: self.k]]       #.astype(int)\n",
        "            Y_predicted[i] = np.argmax(np.bincount(K_Nearest_labels))\n",
        "\n",
        "        return Y_predicted   \n",
        "   def classification_materics(ypredict,ytest): \n",
        "     print(classification_report(ytest,ypredict))\n",
        "     print(confusion_matrix(ytest,ypredict))     "
      ],
      "metadata": {
        "id": "NkMTSCk6bW9y"
      },
      "execution_count": null,
      "outputs": []
    },
    {
      "cell_type": "code",
      "source": [
        "KNN=KNearestNieghbour(10,0)\n",
        "KNN.train(X_train,y_train)\n",
        "Y_labels=KNN.predict_value(X_test)"
      ],
      "metadata": {
        "id": "JLyh2os5OABX"
      },
      "execution_count": null,
      "outputs": []
    },
    {
      "cell_type": "code",
      "source": [
        "print(classification_report(y_test,Y_labels))\n",
        "print(confusion_matrix(y_test,Y_labels))\n"
      ],
      "metadata": {
        "colab": {
          "base_uri": "https://localhost:8080/"
        },
        "id": "eHSA4XEzaOQ1",
        "outputId": "a2c66ed3-0628-49dd-889c-47bb9c882b4d"
      },
      "execution_count": null,
      "outputs": [
        {
          "output_type": "stream",
          "name": "stdout",
          "text": [
            "              precision    recall  f1-score   support\n",
            "\n",
            "           0       0.75      0.91      0.82       590\n",
            "           1       0.99      0.97      0.98       619\n",
            "           2       0.72      0.75      0.74       627\n",
            "           3       0.90      0.88      0.89       583\n",
            "           4       0.76      0.74      0.75       590\n",
            "           5       0.99      0.79      0.88       595\n",
            "           6       0.65      0.56      0.60       632\n",
            "           7       0.85      0.95      0.89       589\n",
            "           8       0.97      0.94      0.96       593\n",
            "           9       0.89      0.96      0.92       582\n",
            "\n",
            "    accuracy                           0.84      6000\n",
            "   macro avg       0.85      0.85      0.84      6000\n",
            "weighted avg       0.85      0.84      0.84      6000\n",
            "\n",
            "[[536   0  13   8   1   0  28   0   4   0]\n",
            " [  2 601   0  12   1   0   2   0   1   0]\n",
            " [  7   0 473   7  76   0  62   0   2   0]\n",
            " [ 23   6   3 512  22   0  17   0   0   0]\n",
            " [  5   0  65  15 439   0  64   0   2   0]\n",
            " [  1   0   1   2   0 469   7  73   2  40]\n",
            " [133   0  91   7  39   0 355   1   6   0]\n",
            " [  0   0   0   0   0   4   0 558   0  27]\n",
            " [  4   0   7   5   2   0   7   7 558   3]\n",
            " [  0   0   0   1   0   2   0  19   0 560]]\n"
          ]
        }
      ]
    }
  ]
}